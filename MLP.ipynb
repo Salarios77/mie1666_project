{
 "cells": [
  {
   "cell_type": "code",
   "execution_count": 2,
   "metadata": {},
   "outputs": [],
   "source": [
    "import numpy as np\n",
    "import matplotlib.pyplot as plt\n",
    "from docplex.mp.model import Model"
   ]
  },
  {
   "cell_type": "code",
   "execution_count": 3,
   "metadata": {},
   "outputs": [],
   "source": [
    "N=5\n",
    "cities=[i for i in range(N + 1)] # 0th city is the source\n",
    "edges =[(i,j) for i in cities for j in cities if i!=j]"
   ]
  },
  {
   "cell_type": "code",
   "execution_count": 4,
   "metadata": {},
   "outputs": [],
   "source": [
    "random=np.random\n",
    "random.seed(1)\n",
    "coord_x=random.rand(N + 1)*100\n",
    "coord_y=random.rand(N + 1)*100"
   ]
  },
  {
   "cell_type": "code",
   "execution_count": 5,
   "metadata": {},
   "outputs": [
    {
     "data": {
      "image/png": "[encoded data removed]",
      "text/plain": "<Figure size 864x360 with 1 Axes>"
     },
     "metadata": {
      "needs_background": "light",
      "transient": {}
     },
     "output_type": "display_data"
    }
   ],
   "source": [
    "x=coord_x\n",
    "y=coord_y\n",
    "\n",
    "plt.figure(figsize=(12,5))\n",
    "plt.scatter(x,y,color='blue')\n",
    "s=[]\n",
    "for n in range(len(coord_x)):\n",
    "    s_temp=[]\n",
    "    s_temp.append(\"%.1f\" %coord_x[n])\n",
    "    s_temp.append(\"%.1f\" %coord_y[n])\n",
    "    s.append(s_temp)\n",
    "\n",
    "plt.xlabel(\"Distance X\")\n",
    "plt.ylabel(\"Distance Y\")\n",
    "\n",
    "for n in range(len(coord_x)):\n",
    "    plt.annotate(str(s[n]), xy=(coord_x[n],coord_y[n] ), xytext=(coord_x[n]-4,coord_y[n]-4), \n",
    "                 color='purple')\n",
    "    \n",
    "for n in range(len(coord_x)):\n",
    "    plt.annotate(str(n), xy=(coord_x[n],coord_y[n] ), xytext=(coord_x[n]+0.5,coord_y[n]+1),\n",
    "                 color='red')\n",
    "\n",
    "plt.show()"
   ]
  },
  {
   "cell_type": "code",
   "execution_count": 6,
   "metadata": {},
   "outputs": [],
   "source": [
    "distances={(i, j): np.hypot(coord_x[i] - coord_x[j], coord_y[i] - coord_y[j]) for i,j in edges}"
   ]
  },
  {
   "cell_type": "code",
   "execution_count": 7,
   "metadata": {},
   "outputs": [],
   "source": [
    "service_times = [0] + list(random.rand(N)*100)\n",
    "costs = {(i, j): distances[(i, j)] + service_times[i] for (i,j) in distances}"
   ]
  },
  {
   "cell_type": "code",
   "execution_count": 74,
   "metadata": {},
   "outputs": [],
   "source": [
    "# for model A, we have N cities. Each city can be visited in 1st place, 2nd, .. Nth place.abs\n",
    "arc_layers = {}\n",
    "for k in range(1, N): # position in permutation\n",
    "    for i in range(1, N + 1):\n",
    "        for j in range(1, N + 1):\n",
    "            if i == j:\n",
    "                continue\n",
    "            arc_layers[(i, j, k)] = costs[(i, j)] * (N - k)\n",
    "\n",
    "choice_at_level = {(i, k) for i in range(1, N + 1) for k in range(1, N + 1)}"
   ]
  },
  {
   "cell_type": "code",
   "execution_count": 75,
   "metadata": {},
   "outputs": [
    {
     "data": {
      "text/plain": "25"
     },
     "execution_count": 75,
     "metadata": {},
     "output_type": "execute_result"
    }
   ],
   "source": [
    "\n",
    "len(choice_at_level)"
   ]
  },
  {
   "cell_type": "code",
   "execution_count": 76,
   "metadata": {},
   "outputs": [
    {
     "data": {
      "text/plain": "80"
     },
     "execution_count": 76,
     "metadata": {},
     "output_type": "execute_result"
    }
   ],
   "source": [
    "\n",
    "len(arc_layers)"
   ]
  },
  {
   "cell_type": "code",
   "execution_count": 77,
   "metadata": {},
   "outputs": [
    {
     "data": {
      "text/plain": "85"
     },
     "execution_count": 77,
     "metadata": {},
     "output_type": "execute_result"
    }
   ],
   "source": [
    "# TODO This doesnt match the paper. I calculate N * (N-1)**2 different real params\n",
    "N**3 - 2*N**2 + 2*N"
   ]
  },
  {
   "cell_type": "code",
   "execution_count": 60,
   "metadata": {},
   "outputs": [],
   "source": [
    "mdl=Model('MLP')\n",
    "\n",
    "x = mdl.binary_var_dict(choice_at_level,name='x')\n",
    "y = mdl.continuous_var_dict(arc_layers,name='y')"
   ]
  },
  {
   "cell_type": "code",
   "execution_count": 78,
   "metadata": {},
   "outputs": [],
   "source": [
    "z = N * mdl.sum(costs[(0, i)] * x[(i, 1)] for i in range(1, N+1)) + mdl.sum(arc_layers[i] * y[i] for i in arc_layers)\n",
    "mdl.minimize(z)"
   ]
  },
  {
   "cell_type": "code",
   "execution_count": 79,
   "metadata": {},
   "outputs": [
    {
     "name": "stdout",
     "output_type": "stream",
     "text": [
      "50\n"
     ]
    }
   ],
   "source": [
    "num_constraints = 0\n",
    "for k in range(1, N + 1):\n",
    "    mdl.add_constraint(\n",
    "        mdl.sum(x[(i,k)] for i in range(1, N + 1)) == 1\n",
    "    )\n",
    "    num_constraints += 1\n",
    "for i in range(1, N + 1):\n",
    "    mdl.add_constraint(\n",
    "        mdl.sum(x[(i,k)] for k in range(1, N + 1)) == 1\n",
    "    )\n",
    "    num_constraints += 1\n",
    "\n",
    "for i in range(1, N + 1):\n",
    "    for k in range(1, N):\n",
    "        mdl.add_constraint(\n",
    "            mdl.sum(y[(i, j, k)] for j in range(1, N + 1) if j != i) == x[(i, k)]\n",
    "        )\n",
    "        num_constraints += 1\n",
    "    \n",
    "for j in range(1, N + 1):\n",
    "    for k in range(1, N):\n",
    "        mdl.add_constraint(\n",
    "            mdl.sum(y[(i, j, k)] for i in range(1, N + 1) if j != i) == x[(j, k+1)]\n",
    "        )\n",
    "        num_constraints += 1\n",
    "\n",
    "print(num_constraints)"
   ]
  },
  {
   "cell_type": "code",
   "execution_count": 80,
   "metadata": {},
   "outputs": [
    {
     "name": "stdout",
     "output_type": "stream",
     "text": [
      "Version identifier: 20.1.0.0 | 2020-11-10 | 9bedb6d68\n",
      "CPXPARAM_Read_DataCheck                          1\n",
      "CPXPARAM_RandomSeed                              202001241\n",
      "CPXPARAM_MIP_Strategy_Branch                     1\n",
      "CPXPARAM_TimeLimit                               120\n",
      "CPXPARAM_MIP_Tolerances_MIPGap                   0.14999999999999999\n",
      "3 of 3 MIP starts provided solutions.\n",
      "MIP start 'm1' defined initial solution with objective 741.9414.\n",
      "Tried aggregator 2 times.\n",
      "MIP Presolve eliminated 50 rows and 0 columns.\n",
      "Aggregator did 5 substitutions.\n",
      "Reduced MIP has 45 rows, 100 columns, and 255 nonzeros.\n",
      "Reduced MIP has 20 binaries, 0 generals, 0 SOSs, and 0 indicators.\n",
      "Presolve time = 0.00 sec. (0.25 ticks)\n",
      "Probing time = 0.00 sec. (0.09 ticks)\n",
      "Tried aggregator 1 time.\n",
      "Detecting symmetries...\n",
      "Reduced MIP has 45 rows, 100 columns, and 255 nonzeros.\n",
      "Reduced MIP has 20 binaries, 0 generals, 0 SOSs, and 0 indicators.\n",
      "Presolve time = 0.00 sec. (0.14 ticks)\n",
      "Probing time = 0.00 sec. (0.09 ticks)\n",
      "Clique table members: 11.\n",
      "MIP emphasis: balance optimality and feasibility.\n",
      "MIP search method: dynamic search.\n",
      "Parallel mode: deterministic, using up to 8 threads.\n",
      "Root relaxation solution time = 0.00 sec. (0.21 ticks)\n",
      "\n",
      "        Nodes                                         Cuts/\n",
      "   Node  Left     Objective  IInf  Best Integer    Best Bound    ItCnt     Gap\n",
      "\n",
      "*     0+    0                          741.9414        0.0000           100.00%\n",
      "      0     0        cutoff            741.9414                     44    0.00%\n",
      "\n",
      "Root node processing (before b&c):\n",
      "  Real time             =    0.01 sec. (1.00 ticks)\n",
      "Parallel b&c, 8 threads:\n",
      "  Real time             =    0.00 sec. (0.00 ticks)\n",
      "  Sync time (average)   =    0.00 sec.\n",
      "  Wait time (average)   =    0.00 sec.\n",
      "                          ------------\n",
      "Total (root+branch&cut) =    0.01 sec. (1.00 ticks)\n"
     ]
    }
   ],
   "source": [
    "mdl.parameters.timelimit=120\n",
    "mdl.parameters.mip.strategy.branch=1\n",
    "mdl.parameters.mip.tolerances.mipgap=0.15\n",
    "\n",
    "solution = mdl.solve(log_output=True)"
   ]
  },
  {
   "cell_type": "code",
   "execution_count": 81,
   "metadata": {},
   "outputs": [
    {
     "data": {
      "text/plain": "<JobSolveStatus.OPTIMAL_SOLUTION: 2>"
     },
     "execution_count": 81,
     "metadata": {},
     "output_type": "execute_result"
    }
   ],
   "source": [
    "mdl.get_solve_status()"
   ]
  },
  {
   "cell_type": "code",
   "execution_count": 82,
   "metadata": {},
   "outputs": [
    {
     "name": "stdout",
     "output_type": "stream",
     "text": [
      "solution for: MLP\n",
      "objective: 741.941\n",
      "x_2_5 = 1\n",
      "x_4_4 = 1\n",
      "x_1_1 = 1\n",
      "x_3_2 = 1\n",
      "x_5_3 = 1\n",
      "y_1_3_1 = 1.000\n",
      "y_3_5_2 = 1.000\n",
      "y_5_4_3 = 1.000\n",
      "y_4_2_4 = 1.000\n"
     ]
    }
   ],
   "source": [
    "solution.display()"
   ]
  },
  {
   "cell_type": "code",
   "execution_count": 83,
   "metadata": {},
   "outputs": [],
   "source": [
    "import itertools\n",
    "min_cost = np.inf\n",
    "def compute_cost(perm):\n",
    "    cost = costs[(0, perm[0])] * N\n",
    "    for index, edge in enumerate(zip(perm[:-1], perm[1:])):\n",
    "        cost += costs[edge] * (N - (index + 1))\n",
    "    return cost\n",
    "for permutation in itertools.permutations(list(range(1, N + 1))):\n",
    "    cost = compute_cost(permutation)\n",
    "    if cost < min_cost:\n",
    "        best = permutation\n",
    "        min_cost = cost"
   ]
  },
  {
   "cell_type": "code",
   "execution_count": 84,
   "metadata": {},
   "outputs": [
    {
     "data": {
      "text/plain": "(741.9414483101717, (1, 3, 5, 4, 2))"
     },
     "execution_count": 84,
     "metadata": {},
     "output_type": "execute_result"
    }
   ],
   "source": [
    "min_cost, best"
   ]
  },
  {
   "cell_type": "code",
   "execution_count": 87,
   "metadata": {},
   "outputs": [],
   "source": [
    "permutation = [0]\n",
    "for k in range(1, N + 1):\n",
    "    for i in range(1, N + 1):\n",
    "        if x[(i, k)].solution_value == 1:\n",
    "            permutation.append(i)\n",
    "            break"
   ]
  },
  {
   "cell_type": "code",
   "execution_count": 98,
   "metadata": {},
   "outputs": [
    {
     "data": {
      "image/png": "[encoded data removed]",
      "text/plain": "<Figure size 864x360 with 1 Axes>"
     },
     "metadata": {
      "needs_background": "light",
      "transient": {}
     },
     "output_type": "display_data"
    }
   ],
   "source": [
    "x=coord_x\n",
    "y=coord_y\n",
    "\n",
    "plt.figure(figsize=(12,5))\n",
    "plt.scatter(x,y,color='blue')\n",
    "s=[]\n",
    "for n in range(len(coord_x)):\n",
    "    s_temp=[]\n",
    "    s_temp.append(\"%.1f\" %coord_x[n])\n",
    "    s_temp.append(\"%.1f\" %coord_y[n])\n",
    "    s.append(s_temp)\n",
    "\n",
    "plt.xlabel(\"Distance X\")\n",
    "plt.ylabel(\"Distance Y\")\n",
    "\n",
    "for n in range(len(coord_x)):\n",
    "    plt.annotate(str(s[n]), xy=(coord_x[n],coord_y[n] ), xytext=(coord_x[n]-4,coord_y[n]-4), \n",
    "                 color='purple')\n",
    "    \n",
    "for n in range(len(coord_x)):\n",
    "    plt.annotate(str(n), xy=(coord_x[n],coord_y[n] ), xytext=(coord_x[n]+0.5,coord_y[n]+1),\n",
    "                 color='red')\n",
    "\n",
    "\n",
    "\n",
    "cmap = plt.get_cmap('winter')\n",
    "for step, (i, j) in enumerate(zip([0] + permutation[:-1], permutation)):\n",
    "    plt.plot([coord_x[i], coord_x[j]], [coord_y[i], coord_y[j]], c=cmap(step/N))\n",
    "    \n",
    "    plt.annotate(f\"Step {step}\", xy=((coord_x[i] + coord_x[j])/2, (coord_y[i] + coord_y[j])/2),\n",
    "                 color='red')\n",
    "\n",
    "plt.axis('equal');\n",
    "\n",
    "plt.show()"
   ]
  },
  {
   "cell_type": "code",
   "execution_count": null,
   "metadata": {},
   "outputs": [],
   "source": []
  }
 ],
 "metadata": {
  "kernelspec": {
   "display_name": "Python 3.7.12 64-bit ('cplex': conda)",
   "metadata": {
    "interpreter": {
     "hash": "edc0e44e85e30b4a4a3eb8332e1cc66cbf7cd06e9d0cdf4116a868ab09ca3200"
    }
   },
   "name": "python3"
  },
  "language_info": {
   "codemirror_mode": {
    "name": "ipython",
    "version": 3
   },
   "file_extension": ".py",
   "mimetype": "text/x-python",
   "name": "python",
   "nbconvert_exporter": "python",
   "pygments_lexer": "ipython3",
   "version": "3.7.12"
  },
  "orig_nbformat": 2
 },
 "nbformat": 4,
 "nbformat_minor": 2
}